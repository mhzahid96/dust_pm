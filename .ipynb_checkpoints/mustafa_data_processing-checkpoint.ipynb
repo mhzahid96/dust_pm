{
 "cells": [
  {
   "cell_type": "markdown",
   "id": "e0fd0855",
   "metadata": {},
   "source": [
    "# Mustafa's Data Processing\n",
    "### This script reads the dust AOD data, land cover data, and elevation data and align teh CRS and the resolution to match across datasets"
   ]
  },
  {
   "cell_type": "code",
   "execution_count": 1,
   "id": "467039e1",
   "metadata": {},
   "outputs": [],
   "source": [
    "# pre amble. reading the needed libraries\n",
    "import os\n",
    "import glob\n",
    "import numpy as np\n",
    "import rasterio\n",
    "from rasterio.warp import reproject, Resampling\n",
    "import pandas as pd"
   ]
  },
  {
   "cell_type": "markdown",
   "id": "9aa1d215",
   "metadata": {},
   "source": [
    "### 1. Read the datasets"
   ]
  },
  {
   "cell_type": "code",
   "execution_count": 2,
   "id": "c3dfd26b",
   "metadata": {},
   "outputs": [
    {
     "name": "stdout",
     "output_type": "stream",
     "text": [
      "Loaded 2922 datasets.\n"
     ]
    }
   ],
   "source": [
    "### let us start with AOD\n",
    "# Define directories and file structure\n",
    "data_dir = \"/Users/mustafazahid/Library/CloudStorage/GoogleDrive-mhzahid@berkeley.edu/My Drive/dust_pm/daod_midas/data/processed\"\n",
    "start_year = 2010\n",
    "end_year = 2017\n",
    "\n",
    "# Store results\n",
    "daily_datasets = {}\n",
    "\n",
    "# Loop through years and read data\n",
    "for year in range(start_year, end_year + 1):\n",
    "    year_dir = os.path.join(data_dir, str(year))\n",
    "    tiff_files = glob.glob(os.path.join(year_dir, \"*.tif\"))\n",
    "    \n",
    "    # Read each GeoTIFF file in the year directory\n",
    "    for tiff_file in tiff_files:\n",
    "        date_str = os.path.basename(tiff_file).split('-')[-1].replace(\".tif\", \"\")\n",
    "        with rasterio.open(tiff_file) as src:\n",
    "            data = src.read(1)  # Read the first (and often only) band\n",
    "            daily_datasets[date_str] = {\n",
    "                \"data\": data,\n",
    "                \"transform\": src.transform,\n",
    "                \"crs\": src.crs,\n",
    "            }\n",
    "\n",
    "print(f\"Loaded {len(daily_datasets)} datasets.\")"
   ]
  },
  {
   "cell_type": "markdown",
   "id": "af349d7f",
   "metadata": {},
   "source": [
    "## 2. Convert data into tabular dataframe with grid_id-day level dataset"
   ]
  },
  {
   "cell_type": "code",
   "execution_count": 4,
   "id": "29b6ed76",
   "metadata": {},
   "outputs": [
    {
     "name": "stdout",
     "output_type": "stream",
     "text": [
      "Number of daily DataFrames: 2922\n",
      "   grid_id     AOD_value   longitude   latitude      date\n",
      "0        0 -3.400000e+38 -109.399995  12.399999  20101122\n",
      "1        1 -3.400000e+38 -109.299995  12.399999  20101122\n",
      "2        2 -3.400000e+38 -109.199995  12.399999  20101122\n",
      "3        3 -3.400000e+38 -109.099995  12.399999  20101122\n",
      "4        4 -3.400000e+38 -108.999995  12.399999  20101122\n"
     ]
    }
   ],
   "source": [
    "\n",
    "# Placeholder for daily DataFrames\n",
    "daily_dataframes = []\n",
    "\n",
    "# Loop through the daily_datasets dictionary\n",
    "for date_str, dataset in daily_datasets.items():\n",
    "    # Extract raster data and metadata\n",
    "    raster_data = dataset[\"data\"]\n",
    "    transform = dataset[\"transform\"]\n",
    "    \n",
    "    # Get the shape of the raster\n",
    "    rows, cols = np.indices(raster_data.shape)\n",
    "    \n",
    "    # Flatten the raster data into 1D arrays\n",
    "    raster_data_flattened = raster_data.flatten()\n",
    "    rows_flattened = rows.flatten()\n",
    "    cols_flattened = cols.flatten()\n",
    "    \n",
    "    # Generate grid IDs (you can customize this based on your definition of grid_id)\n",
    "    grid_ids = rows_flattened * raster_data.shape[1] + cols_flattened\n",
    "    \n",
    "        # Calculate longitude and latitude for each grid cell\n",
    "    x_coords, y_coords = rasterio.transform.xy(transform, rows_flattened, cols_flattened)\n",
    "    x_coords = np.array(x_coords)\n",
    "    y_coords = np.array(y_coords)\n",
    "    \n",
    "    # Filter out invalid or NaN values\n",
    "    valid_mask = ~np.isnan(raster_data_flattened)\n",
    "    grid_ids = grid_ids[valid_mask]\n",
    "    raster_data_flattened = raster_data_flattened[valid_mask]\n",
    "    x_coords = x_coords[valid_mask]\n",
    "    y_coords = y_coords[valid_mask]\n",
    "   \n",
    "    \n",
    "    # Create a DataFrame for this date\n",
    "    date_df = pd.DataFrame({\n",
    "        \"grid_id\": grid_ids,\n",
    "        \"AOD_value\": raster_data_flattened,\n",
    "        \"longitude\": x_coords,\n",
    "        \"latitude\": y_coords\n",
    "    })\n",
    "    date_df[\"date\"] = date_str  # Add the date as a separate column\n",
    "    \n",
    "    # Append the daily DataFrame to the list\n",
    "    daily_dataframes.append(date_df)\n",
    "\n",
    "# Inspect the first few DataFrames\n",
    "print(f\"Number of daily DataFrames: {len(daily_dataframes)}\")\n",
    "print(daily_dataframes[0].head())  # Show the first few rows of the first day's DataFrame"
   ]
  },
  {
   "cell_type": "code",
   "execution_count": 15,
   "id": "f72b65ea",
   "metadata": {},
   "outputs": [],
   "source": [
    "x.loc[x[\"AOD_value\"] < 0, \"AOD_value\"] = 0"
   ]
  },
  {
   "cell_type": "code",
   "execution_count": 16,
   "id": "a7bd2b62",
   "metadata": {},
   "outputs": [
    {
     "data": {
      "text/plain": [
       "count    509518.000000\n",
       "mean          0.000498\n",
       "std           0.006190\n",
       "min           0.000000\n",
       "25%           0.000000\n",
       "50%           0.000000\n",
       "75%           0.000000\n",
       "max           0.300781\n",
       "Name: AOD_value, dtype: float64"
      ]
     },
     "execution_count": 16,
     "metadata": {},
     "output_type": "execute_result"
    }
   ],
   "source": [
    "x[\"AOD_value\"].describe()"
   ]
  },
  {
   "cell_type": "code",
   "execution_count": null,
   "id": "3b6ebe97",
   "metadata": {},
   "outputs": [],
   "source": [
    "# Assuming `daily_datasets` is a list or dictionary of rasters\n",
    "# Select the raster to use as a template\n",
    "\n",
    "template_raster = daily_datasets[\"20170101\"]  # Replace with the appropriate index or key\n",
    "data = template_raster[\"data\"]       # The raster data array\n",
    "transform = template_raster[\"transform\"]  # Affine transform\n",
    "crs = template_raster[\"crs\"]         # CRS object\n",
    "\n",
    "# Define the output file path\n",
    "output_path = \"/Users/mustafazahid/Library/CloudStorage/GoogleDrive-mhzahid@berkeley.edu/My Drive/dust_pm/daod_midas/data/processed/template_dust_aod_raster.tif\"\n",
    "# Write raster to GeoTIFF\n",
    "with rasterio.open(\n",
    "    output_path,\n",
    "    mode=\"w\",\n",
    "    driver=\"GTiff\",\n",
    "    height=data.shape[0],   # Number of rows\n",
    "    width=data.shape[1],    # Number of columns\n",
    "    count=1,                # Number of bands\n",
    "    dtype=data.dtype,       # Data type of the raster\n",
    "    crs=crs,                # Coordinate Reference System\n",
    "    transform=transform     # Affine transform\n",
    ") as dst:\n",
    "    dst.write(data, 1)  # Write the data to the first band\n",
    "print(f\"Template raster written to: {output_path}\")"
   ]
  },
  {
   "cell_type": "code",
   "execution_count": null,
   "id": "a51e7160",
   "metadata": {},
   "outputs": [],
   "source": [
    "### now let us move on into elevation \n",
    "\n",
    "# Path to elevation raster\n",
    "elevation_file = \"/Users/mustafazahid/Library/CloudStorage/GoogleDrive-mhzahid@berkeley.edu/My Drive/dust_pm/elevation/raw/stanford-rm470dn6126-geotiff.tif\"\n",
    "\n",
    "# Example CRS and transform from one of the dust AOD rasters\n",
    "# Replace with actual values from your AOD dataset\n",
    "target_crs = \"EPSG:4326\"  # Example CRS, update if needed\n",
    "target_transform = rasterio.Affine(0.1, 0, -180, 0, -0.1, 90)  # Example transform\n",
    "target_width = 3600  # Example width (number of columns), update if needed\n",
    "target_height = 1800  # Example height (number of rows), update if needed\n",
    "\n",
    "# Read the elevation raster\n",
    "with rasterio.open(elevation_file) as src:\n",
    "    elev_data = src.read(1)  # Read the first band\n",
    "    elev_crs = src.crs\n",
    "    elev_transform = src.transform\n",
    "    elev_meta = src.meta\n",
    "\n",
    "# Create an empty array for the reprojected data\n",
    "aligned_elev_data = np.empty((target_height, target_width), dtype=elev_data.dtype)\n",
    "\n",
    "# Reproject and align the elevation raster\n",
    "reproject(\n",
    "    source=elev_data,\n",
    "    destination=aligned_elev_data,\n",
    "    src_transform=elev_transform,\n",
    "    src_crs=elev_crs,\n",
    "    dst_transform=target_transform,\n",
    "    dst_crs=target_crs,\n",
    "    resampling=Resampling.bilinear,  # Bilinear interpolation for smoother results\n",
    ")\n",
    "\n",
    "print(\"Elevation raster aligned with AOD rasters.\")\n"
   ]
  },
  {
   "cell_type": "code",
   "execution_count": null,
   "id": "04e44e58",
   "metadata": {},
   "outputs": [],
   "source": [
    "import matplotlib.pyplot as plt\n",
    "\n",
    "# Assuming 'aligned_elev_data' contains the reprojected elevation raster\n",
    "# For simplicity, ensure NaN values (if any) are handled\n",
    "masked_elev_data = np.ma.masked_invalid(aligned_elev_data)\n",
    "\n",
    "# Create the plot\n",
    "plt.figure(figsize=(10, 6))\n",
    "plt.imshow(masked_elev_data, cmap='terrain') # Adjust extent to match your raster\n",
    "plt.colorbar(label=\"Elevation (meters)\")\n",
    "plt.title(\"Elevation Raster\")\n",
    "plt.xlabel(\"Longitude\")\n",
    "plt.ylabel(\"Latitude\")\n",
    "plt.show()"
   ]
  },
  {
   "cell_type": "code",
   "execution_count": null,
   "id": "b56fb468",
   "metadata": {},
   "outputs": [],
   "source": [
    "# Example: Plotting a specific daily dust AOD raster\n",
    "# Assuming 'daily_datasets' is a dictionary where each key is the date string, and the value contains the data\n",
    "\n",
    "# Choose a date to plot (replace with an actual date string from your dataset)\n",
    "date_to_plot = \"20170101\"  # Replace with a valid date key in your dataset\n",
    "aod_data = daily_datasets[date_to_plot][\"data\"]\n",
    "aod_transform = daily_datasets[date_to_plot][\"transform\"]\n",
    "\n",
    "# Get geographic bounds from the transform\n",
    "from rasterio.plot import show\n",
    "bounds = rasterio.transform.array_bounds(aod_data.shape[0], aod_data.shape[1], aod_transform)\n",
    "\n",
    "# Create the plot\n",
    "plt.figure(figsize=(10, 6))\n",
    "plt.imshow(\n",
    "    aod_data, \n",
    "    cmap=\"viridis\",  # Choose a colormap suitable for the data\n",
    "    extent=(bounds[0], bounds[2], bounds[1], bounds[3])  # Extent from transform\n",
    ")\n",
    "plt.colorbar(label=\"Dust AOD\")\n",
    "plt.title(f\"Dust AOD on {date_to_plot}\")\n",
    "plt.xlabel(\"Longitude\")\n",
    "plt.ylabel(\"Latitude\")\n",
    "plt.show()\n"
   ]
  },
  {
   "cell_type": "code",
   "execution_count": null,
   "id": "f882e139",
   "metadata": {},
   "outputs": [],
   "source": [
    "daily_datasets['20150101']"
   ]
  },
  {
   "cell_type": "code",
   "execution_count": null,
   "id": "1200b105",
   "metadata": {},
   "outputs": [],
   "source": [
    "transform = Affine(0.09999999830410791, 0.0, -109.44999509124034,\n",
    "                   0.0, -0.10000000084818171, 12.449999342235074)\n",
    "\n",
    "# Extract resolution\n",
    "pixel_width = transform.a  # x-resolution\n",
    "pixel_height = -transform.e  # y-resolution (absolute value since it's negative)\n",
    "print(\"Resolution (pixel width, pixel height):\", (pixel_width, pixel_height))"
   ]
  },
  {
   "cell_type": "code",
   "execution_count": null,
   "id": "119339d4",
   "metadata": {},
   "outputs": [],
   "source": [
    "### finally NDVI"
   ]
  },
  {
   "cell_type": "code",
   "execution_count": null,
   "id": "7bc65758",
   "metadata": {},
   "outputs": [],
   "source": [
    "elev_data"
   ]
  },
  {
   "cell_type": "code",
   "execution_count": null,
   "id": "36262d12",
   "metadata": {},
   "outputs": [],
   "source": [
    "# Get geographic bounds from the transform\n",
    "from rasterio.plot import show\n",
    "bounds = rasterio.transform.array_bounds(elev_data.shape[0], elev_data.shape[1], aod_transform)\n",
    "\n",
    "# Create the plot\n",
    "plt.figure(figsize=(10, 6))\n",
    "plt.imshow(\n",
    "    elev_data, \n",
    "    cmap=\"viridis\",  # Choose a colormap suitable for the data\n",
    "    extent=(bounds[0], bounds[2], bounds[1], bounds[3])  # Extent from transform\n",
    ")\n",
    "plt.colorbar(label=\"Elev\")\n",
    "plt.title(\"elev\")\n",
    "plt.xlabel(\"Longitude\")\n",
    "plt.ylabel(\"Latitude\")\n",
    "plt.show()"
   ]
  },
  {
   "cell_type": "code",
   "execution_count": null,
   "id": "d69b9c09",
   "metadata": {},
   "outputs": [],
   "source": [
    "from rasterio.warp import reproject, Resampling\n",
    "from rasterio.windows import from_bounds\n",
    "\n",
    "# Assuming 'aod_transform', 'aod_crs', 'aod_width', and 'aod_height' are from your AOD raster\n",
    "aod_transform = daily_datasets[\"20030101\"][\"transform\"]  # Replace with an AOD raster\n",
    "aod_crs = daily_datasets[\"20030101\"][\"crs\"]\n",
    "aod_width = daily_datasets[\"20030101\"][\"data\"].shape[1]\n",
    "aod_height = daily_datasets[\"20030101\"][\"data\"].shape[0]\n",
    "\n",
    "# Get bounds of the AOD raster\n",
    "aod_bounds = rasterio.transform.array_bounds(aod_height, aod_width, aod_transform)\n",
    "\n",
    "# Reproject and clip the elevation raster\n",
    "with rasterio.open(elevation_file) as src:\n",
    "    # Create an empty array for the reprojected and clipped data\n",
    "    aligned_elev_data = np.empty((aod_height, aod_width), dtype=src.read(1).dtype)\n",
    "    \n",
    "    reproject(\n",
    "        source=src.read(1),\n",
    "        destination=aligned_elev_data,\n",
    "        src_transform=src.transform,\n",
    "        src_crs=src.crs,\n",
    "        dst_transform=aod_transform,\n",
    "        dst_crs=aod_crs,\n",
    "        resampling=Resampling.bilinear,\n",
    "    )\n",
    "\n",
    "# Now, `aligned_elev_data` matches both the CRS, resolution, and extent of the AOD raster.\n",
    "print(\"Elevation raster aligned to AOD raster extent.\")"
   ]
  },
  {
   "cell_type": "code",
   "execution_count": null,
   "id": "f74e758c",
   "metadata": {},
   "outputs": [],
   "source": [
    "# Plot elevation\n",
    "plt.figure(figsize=(10, 6))\n",
    "plt.imshow(aligned_elev_data, cmap='terrain', extent=(aod_bounds[0], aod_bounds[2], aod_bounds[1], aod_bounds[3]))\n",
    "plt.colorbar(label=\"Elevation (meters)\")\n",
    "plt.title(\"Aligned Elevation Raster\")\n",
    "plt.xlabel(\"Longitude\")\n",
    "plt.ylabel(\"Latitude\")\n",
    "plt.show()\n",
    "\n",
    "# Plot AOD for comparison\n",
    "plt.figure(figsize=(10, 6))\n",
    "plt.imshow(daily_datasets[\"20030101\"][\"data\"], cmap=\"viridis\", extent=(aod_bounds[0], aod_bounds[2], aod_bounds[1], aod_bounds[3]))\n",
    "plt.colorbar(label=\"Dust AOD\")\n",
    "plt.title(\"Dust AOD Raster\")\n",
    "plt.xlabel(\"Longitude\")\n",
    "plt.ylabel(\"Latitude\")\n",
    "plt.show()"
   ]
  },
  {
   "cell_type": "code",
   "execution_count": null,
   "id": "c8bfa337",
   "metadata": {},
   "outputs": [],
   "source": [
    "daily_datasets[\"20030101\"]"
   ]
  },
  {
   "cell_type": "code",
   "execution_count": null,
   "id": "fe962e97",
   "metadata": {},
   "outputs": [],
   "source": [
    "# Summarize the daily dataset for 2003-01-01\n",
    "dataset = daily_datasets[\"20030101\"]\n",
    "\n",
    "# Print keys and a summary\n",
    "print(\"Summary of daily_datasets['20030101']:\")\n",
    "for key, value in dataset.items():\n",
    "    if isinstance(value, np.ndarray):  # For array data\n",
    "        print(f\"  {key}: Array of shape {value.shape} and dtype {value.dtype}\")\n",
    "    else:\n",
    "        print(f\"  {key}: {value}\")\n",
    "\n",
    "# Additional insights into the data\n",
    "print(\"\\nAdditional details:\")\n",
    "if \"data\" in dataset:\n",
    "    print(f\"  Min AOD: {np.nanmin(dataset['data']):.4f}, Max AOD: {np.nanmax(dataset['data']):.4f}\")\n",
    "    print(f\"  Mean AOD: {np.nanmean(dataset['data']):.4f}, Std Dev: {np.nanstd(dataset['data']):.4f}\")"
   ]
  },
  {
   "cell_type": "code",
   "execution_count": null,
   "id": "d7de9a1f",
   "metadata": {},
   "outputs": [],
   "source": [
    "# Access the data array\n",
    "aod_data = daily_datasets[\"20030101\"][\"data\"]\n",
    "\n",
    "# Replace values below 0 with 0\n",
    "aod_data = np.maximum(aod_data, 0)\n",
    "\n",
    "# Update the dataset with the modified array\n",
    "daily_datasets[\"20030101\"][\"data\"] = aod_data\n",
    "\n",
    "# Verify the changes\n",
    "print(\"Values adjusted. Min value:\", np.min(aod_data))"
   ]
  },
  {
   "cell_type": "code",
   "execution_count": null,
   "id": "e8760ab9",
   "metadata": {},
   "outputs": [],
   "source": [
    "# Summarize the daily dataset for 2003-01-01\n",
    "dataset = daily_datasets[\"20030101\"]\n",
    "\n",
    "# Print keys and a summary\n",
    "print(\"Summary of daily_datasets['20030101']:\")\n",
    "for key, value in dataset.items():\n",
    "    if isinstance(value, np.ndarray):  # For array data\n",
    "        print(f\"  {key}: Array of shape {value.shape} and dtype {value.dtype}\")\n",
    "    else:\n",
    "        print(f\"  {key}: {value}\")\n",
    "\n",
    "# Additional insights into the data\n",
    "print(\"\\nAdditional details:\")\n",
    "if \"data\" in dataset:\n",
    "    print(f\"  Min AOD: {np.nanmin(dataset['data']):.4f}, Max AOD: {np.nanmax(dataset['data']):.4f}\")\n",
    "    print(f\"  Mean AOD: {np.nanmean(dataset['data']):.4f}, Std Dev: {np.nanstd(dataset['data']):.4f}\")"
   ]
  },
  {
   "cell_type": "code",
   "execution_count": null,
   "id": "185beb9c",
   "metadata": {},
   "outputs": [],
   "source": [
    "import pandas as pd\n",
    "\n",
    "# Create a DataFrame to store daily averages\n",
    "daily_averages = []\n",
    "\n",
    "# Iterate through the daily_datasets to calculate daily averages\n",
    "for date, dataset in daily_datasets.items():\n",
    "    data = dataset[\"data\"]\n",
    "    # Replace values below 0 with 0\n",
    "    data = np.maximum(data, 0)\n",
    "    daily_avg = np.nanmean(data)  # Calculate mean, ignoring NaNs\n",
    "    daily_averages.append({\"date\": pd.to_datetime(date, format=\"%Y%m%d\"), \"daily_avg_aod\": daily_avg})\n",
    "\n",
    "# Convert to a DataFrame for easier manipulation\n",
    "daily_averages_df = pd.DataFrame(daily_averages)"
   ]
  },
  {
   "cell_type": "code",
   "execution_count": null,
   "id": "08a434ee",
   "metadata": {},
   "outputs": [],
   "source": [
    "daily_averages_df = daily_averages_df.sort_values(by=\"date\")\n",
    "daily_averages_df"
   ]
  },
  {
   "cell_type": "code",
   "execution_count": null,
   "id": "f18c66a1",
   "metadata": {},
   "outputs": [],
   "source": [
    "# Add a \"month\" column to the daily averages DataFrame\n",
    "daily_averages_df[\"month\"] = daily_averages_df[\"date\"].dt.to_period(\"M\")\n",
    "\n",
    "# Calculate monthly averages\n",
    "monthly_averages_df = daily_averages_df.groupby(\"month\", as_index=False).mean()\n",
    "monthly_averages_df[\"month\"] = monthly_averages_df[\"month\"].dt.to_timestamp()"
   ]
  },
  {
   "cell_type": "code",
   "execution_count": null,
   "id": "169debb0",
   "metadata": {},
   "outputs": [],
   "source": [
    "import matplotlib.pyplot as plt\n",
    "\n",
    "# Plot daily averages\n",
    "plt.figure(figsize=(12, 6))\n",
    "plt.plot(daily_averages_df[\"date\"], daily_averages_df[\"daily_avg_aod\"], label=\"Daily Avg AOD\", color=\"blue\")\n",
    "plt.title(\"Daily Average Dust AOD\")\n",
    "plt.xlabel(\"Date\")\n",
    "plt.ylabel(\"Average AOD\")\n",
    "plt.grid(True, linestyle=\"--\", alpha=0.5)\n",
    "plt.legend()\n",
    "plt.show()"
   ]
  },
  {
   "cell_type": "code",
   "execution_count": null,
   "id": "33d1af49",
   "metadata": {},
   "outputs": [],
   "source": [
    "# Plot monthly averages\n",
    "plt.figure(figsize=(12, 6))\n",
    "plt.plot(monthly_averages_df[\"month\"], monthly_averages_df[\"daily_avg_aod\"], label=\"Monthly Avg AOD\", color=\"orange\")\n",
    "plt.title(\"Monthly Average Max Dust AOD\")\n",
    "plt.xlabel(\"Month\")\n",
    "plt.ylabel(\"Average AOD\")\n",
    "plt.grid(True, linestyle=\"--\", alpha=0.5)\n",
    "plt.legend()\n",
    "plt.show()"
   ]
  },
  {
   "cell_type": "code",
   "execution_count": null,
   "id": "068ab114",
   "metadata": {},
   "outputs": [],
   "source": []
  }
 ],
 "metadata": {
  "kernelspec": {
   "display_name": "Python 3 (ipykernel)",
   "language": "python",
   "name": "python3"
  },
  "language_info": {
   "codemirror_mode": {
    "name": "ipython",
    "version": 3
   },
   "file_extension": ".py",
   "mimetype": "text/x-python",
   "name": "python",
   "nbconvert_exporter": "python",
   "pygments_lexer": "ipython3",
   "version": "3.9.7"
  }
 },
 "nbformat": 4,
 "nbformat_minor": 5
}
